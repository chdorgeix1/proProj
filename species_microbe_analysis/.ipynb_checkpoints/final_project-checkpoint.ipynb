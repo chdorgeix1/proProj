{
 "cells": [
  {
   "cell_type": "code",
   "execution_count": 2,
   "id": "6eb73ec0",
   "metadata": {},
   "outputs": [],
   "source": [
    "import numpy as np\n",
    "import pandas as pd\n",
    "import matplotlib.pyplot as plt\n",
    "from sklearn.naive_bayes import GaussianNB\n",
    "from sklearn.decomposition import PCA\n",
    "from sklearn.decomposition import KernelPCA\n",
    "from sklearn.model_selection import train_test_split\n",
    "from sklearn.preprocessing import StandardScaler\n",
    "from sklearn import tree\n",
    "from sklearn.ensemble import RandomForestRegressor\n",
    "from sklearn.metrics import mean_absolute_error\n",
    "from sklearn.model_selection import ShuffleSplit\n",
    "from sklearn.tree import DecisionTreeClassifier\n",
    "from sklearn.model_selection import cross_val_score\n",
    "from sklearn.model_selection import GridSearchCV\n",
    "\n",
    "df = pd.read_csv('genus_output.csv')"
   ]
  },
  {
   "cell_type": "code",
   "execution_count": 3,
   "id": "de99a1ab",
   "metadata": {},
   "outputs": [],
   "source": [
    "#Checked off\n",
    "# Leave N outs decline\n",
    "# Create bar chart most important variable\n",
    "# include one example tree(with most important variable first)\n",
    "# Keep leaving N out up to half dataset\n",
    "\n",
    "df.head()\n",
    "\n",
    "df.shape\n",
    "\n",
    "df.head()\n",
    "\n",
    "spec_list = ['e', 's']\n",
    "\n",
    "df = df[df.species.isin(spec_list)]\n",
    "\n",
    "X = df.drop(['SAMPLE', 'Site', 'species'], axis = 1)\n",
    "X.head()\n",
    "\n",
    "column_list = X.columns.values.tolist()\n",
    "\n",
    "\n",
    "X = X.values\n",
    "\n",
    "\n",
    "y = df['species']\n",
    "\n",
    "y = pd.get_dummies(y)\n",
    "\n",
    "y.rename(columns = {'e':'species'}, inplace = True)\n",
    "\n",
    "y = y.drop(['s'], axis = 1)\n",
    "y.head()\n",
    "\n",
    "y = y.values"
   ]
  },
  {
   "cell_type": "code",
   "execution_count": 4,
   "id": "bb4e49cc",
   "metadata": {
    "scrolled": true
   },
   "outputs": [
    {
     "name": "stdout",
     "output_type": "stream",
     "text": [
      "0.994281172078821\n"
     ]
    },
    {
     "data": {
      "image/png": "[encoded data removed]",
      "text/plain": [
       "<Figure size 432x288 with 1 Axes>"
      ]
     },
     "metadata": {
      "needs_background": "light"
     },
     "output_type": "display_data"
    }
   ],
   "source": [
    "pca = PCA(n_components = 25)\n",
    "X_pca = pca.fit_transform(X)\n",
    "\n",
    "print(sum(pca.explained_variance_ratio_))\n",
    "\n",
    "plt.plot(pca.explained_variance_ratio_)\n",
    "plt.xticks([0,1,2,3,4])\n",
    "plt.ylabel(\"PCA Variance Explained\")\n",
    "plt.show()"
   ]
  },
  {
   "cell_type": "code",
   "execution_count": 5,
   "id": "d1f99742",
   "metadata": {},
   "outputs": [],
   "source": [
    "##########################\n",
    "#Grid search for hyper parameters\n",
    "##########################"
   ]
  },
  {
   "cell_type": "code",
   "execution_count": 96,
   "id": "9cbb6e9d",
   "metadata": {},
   "outputs": [],
   "source": [
    "c = {'p_out': [], 'accuracy': []}\n",
    "\n",
    "\n",
    "df2 = pd.DataFrame(columns = ['p_out', 'accuracy'])\n",
    "df2.head()\n",
    "\n",
    "import numpy as np\n",
    "from sklearn.model_selection import LeavePOut\n",
    "\n",
    "\n",
    "param_list = []\n",
    "\n",
    "p_num_list = [3]\n",
    "for j in p_num_list:\n",
    "    p_num = j\n",
    "    d = {'TP': [], 'FN': [], 'FP': [], 'TN': []}\n",
    "    df1 = pd.DataFrame(data=d)\n",
    "    \n",
    "    rs = ShuffleSplit(n_splits=150, test_size= float(j/81), random_state=1693)\n",
    "    rs.get_n_splits(X)\n",
    "    \n",
    "    FN_FP_TP_TN = []\n",
    "    for train_index, test_index in rs.split(X):\n",
    "        X_train, X_test = X[train_index], X[test_index]\n",
    "        y_train, y_test = y[train_index], y[test_index]\n",
    "        dt_classifier = DecisionTreeClassifier(random_state=1693, max_depth=3, min_samples_leaf=4)\n",
    "        dt_classifier.fit(X_train, y_train)\n",
    "\n",
    "        \n",
    "        \n",
    "        params =  [{\"max_depth\":[1,2,3,4,5,6,7,8,9,10], \n",
    "            \"min_samples_leaf\":[1,2,3,4,5,6,10,12,14,16,18,20]  \n",
    "          }]\n",
    "\n",
    "        gSearch = GridSearchCV(estimator=dt_classifier,\n",
    "                       param_grid=params,\n",
    "                       scoring='accuracy',\n",
    "                       cv = 2\n",
    "                      )\n",
    "        \n",
    "        \n",
    "        gSearch_results = gSearch.fit(X_train, y_train)\n",
    "        \n",
    "        \n",
    "        #(gSearch_results)\n",
    "        \n",
    "        param_list.append(gSearch_results.best_params_)\n",
    "        #print(gSearch_results.best_score_)\n",
    "        \n",
    "        \n",
    "        #from sklearn import tree\n",
    "        #tree_sample = tree.export_graphviz(dt_classifier, out_file = \"tree_dt.dot\")\n",
    "        \n",
    "        temp_list = [0, 0, 0, 0]\n",
    "        y_pred = dt_classifier.predict(X_test)\n",
    "        #print(y_pred)\n",
    "        #print(y_test)\n",
    "        for i in range(len(y_test)):\n",
    "            if (y_pred[i]) == 0 and y_test[i][0] == 1:\n",
    "                temp_list[0] += 1\n",
    "            elif (y_pred[i]) == 1 and y_test[i][0] == 0:\n",
    "                temp_list[1] += 1\n",
    "            elif (y_pred[i]) == 1 and y_test[i][0] == 1:\n",
    "                temp_list[2] += 1\n",
    "            elif (y_pred[i]) == 0 and y_test[i][0] == 0:\n",
    "                temp_list[3] += 1\n",
    "        FN_FP_TP_TN.append(temp_list)\n",
    "    #print(j)\n",
    "    #print(FN_FP_TP_TN)\n",
    "    for i in range(len(FN_FP_TP_TN)):\n",
    "        df1.loc[len(df1.index)] = FN_FP_TP_TN[i]\n",
    "    #print(df1.head())\n",
    "    a = df1.TP.sum()\n",
    "    b = df1.FN.sum()\n",
    "    c = df1.FP.sum()\n",
    "    d = df1.TN.sum()\n",
    "    #print(\"Leave\", p_num, 'out analysis:')\n",
    "    #print('')\n",
    "    #print('|', a, '|', b, '|')\n",
    "    #print('|', c, '|', d, '|')\n",
    "    #print('')\n",
    "    total_accuracy = (a + d)/(a + b + c + d)\n",
    "    #print('Total accuracy:', total_accuracy)\n",
    "    #print('Sum:')\n",
    "    #print(a + b + c + d)\n",
    "    df2.loc[len(df2.index)] = [p_num, total_accuracy]\n",
    "    #print('')\n",
    "    #print(df2.head())\n",
    "    #print('')\n",
    "    \n",
    "#print(param_list)"
   ]
  },
  {
   "cell_type": "code",
   "execution_count": 97,
   "id": "8ff398d4",
   "metadata": {},
   "outputs": [
    {
     "name": "stdout",
     "output_type": "stream",
     "text": [
      "1.3533333333333333\n",
      "4.333333333333333\n"
     ]
    }
   ],
   "source": [
    "depth_list = []\n",
    "leaf_list = []\n",
    "for i in param_list:\n",
    "    depth_list.append(i['max_depth'])\n",
    "    leaf_list.append(i['min_samples_leaf'])\n",
    "print(sum(depth_list)/len(depth_list))\n",
    "print(sum(leaf_list)/len(leaf_list))"
   ]
  },
  {
   "cell_type": "code",
   "execution_count": 36,
   "id": "544ced1d",
   "metadata": {},
   "outputs": [],
   "source": [
    "##########################\n",
    "# Leave N outs decline\n",
    "##########################"
   ]
  },
  {
   "cell_type": "code",
   "execution_count": 114,
   "id": "775227c7",
   "metadata": {
    "scrolled": false
   },
   "outputs": [
    {
     "name": "stdout",
     "output_type": "stream",
     "text": [
      "1\n",
      "2\n",
      "3\n",
      "4\n",
      "5\n",
      "6\n",
      "7\n",
      "8\n",
      "9\n",
      "10\n",
      "11\n",
      "12\n",
      "13\n",
      "14\n",
      "15\n",
      "16\n",
      "17\n",
      "18\n",
      "19\n",
      "20\n",
      "21\n",
      "22\n",
      "23\n",
      "24\n",
      "25\n",
      "26\n",
      "27\n",
      "28\n",
      "29\n",
      "30\n",
      "31\n",
      "32\n",
      "33\n",
      "34\n",
      "35\n",
      "36\n",
      "37\n",
      "38\n",
      "39\n",
      "40\n"
     ]
    }
   ],
   "source": [
    "c = {'p_out': [], 'accuracy': []}\n",
    "\n",
    "\n",
    "df2 = pd.DataFrame(columns = ['p_out', 'accuracy'])\n",
    "df2.head()\n",
    "\n",
    "import numpy as np\n",
    "from sklearn.model_selection import LeavePOut\n",
    "genus_total_list = []\n",
    "p_num_list = list(range(1,41))\n",
    "#p_num_list = [5,10,20,30,40]\n",
    "#p_num_list = [40]\n",
    "for j in p_num_list:\n",
    "    p_num = j\n",
    "    d = {'TP': [], 'FN': [], 'FP': [], 'TN': []}\n",
    "    df1 = pd.DataFrame(data=d)\n",
    "    \n",
    "    rs = ShuffleSplit(n_splits=10000, test_size= float(j/81), random_state=1693)\n",
    "    rs.get_n_splits(X)\n",
    "    \n",
    "    FN_FP_TP_TN = []\n",
    "    for train_index, test_index in rs.split(X):\n",
    "        X_train, X_test = X[train_index], X[test_index]\n",
    "        y_train, y_test = y[train_index], y[test_index]\n",
    "        dt_classifier = DecisionTreeClassifier(random_state=1693, max_depth=3, min_samples_leaf=4)\n",
    "        dt_classifier.fit(X_train, y_train)\n",
    "        \n",
    "        #counter = 0\n",
    "        #for i in dt_classifier.feature_importances_:\n",
    "        #    if i != 0:\n",
    "        #        genus_total_list.append(counter)\n",
    "        #    counter += 1\n",
    "        \n",
    "        ### Chunk containing info on most important Genuses\n",
    "        dt_list = list(dt_classifier.feature_importances_)\n",
    "        genus_total_list.append(dt_list.index(max(dt_list)))\n",
    "        \n",
    "        #if dt_list.index(max(dt_list)) == 499:\n",
    "            #print('here')\n",
    "        #    tree.export_graphviz(dt_classifier, out_file = \"tree_dt1.dot\")\n",
    "\n",
    "        ###\n",
    "        \n",
    "        '''\n",
    "        params =  [{\"max_depth\":[1,2,3,4,5,6,7,8,9,10], \n",
    "            \"min_samples_leaf\":[1,2,3,4,5,6,10,12,14,16,18,20]  \n",
    "          }]\n",
    "\n",
    "        gSearch = GridSearchCV(estimator=dt_classifier,\n",
    "                       param_grid=params,\n",
    "                       scoring='accuracy',\n",
    "                       cv=10 \n",
    "                      )\n",
    "        \n",
    "        \n",
    "        gSearch_results = gSearch.fit(X_train, y_train)\n",
    "        \n",
    "        \n",
    "        #(gSearch_results)\n",
    "        #print(gSearch_results.best_params_)\n",
    "        #print(gSearch_results.best_score_)\n",
    "        '''\n",
    "        \n",
    "        #from sklearn import tree\n",
    "        #tree_sample = tree.export_graphviz(dt_classifier, out_file = \"tree_dt.dot\")\n",
    "        \n",
    "        temp_list = [0, 0, 0, 0]\n",
    "        y_pred = dt_classifier.predict(X_test)\n",
    "        #print(y_pred)\n",
    "        #print(y_test)\n",
    "        for i in range(len(y_test)):\n",
    "            if (y_pred[i]) == 0 and y_test[i][0] == 1:\n",
    "                temp_list[0] += 1\n",
    "            elif (y_pred[i]) == 1 and y_test[i][0] == 0:\n",
    "                temp_list[1] += 1\n",
    "            elif (y_pred[i]) == 1 and y_test[i][0] == 1:\n",
    "                temp_list[2] += 1\n",
    "            elif (y_pred[i]) == 0 and y_test[i][0] == 0:\n",
    "                temp_list[3] += 1\n",
    "        FN_FP_TP_TN.append(temp_list)\n",
    "    print(j)\n",
    "    #print(FN_FP_TP_TN)\n",
    "    for i in range(len(FN_FP_TP_TN)):\n",
    "        df1.loc[len(df1.index)] = FN_FP_TP_TN[i]\n",
    "    #print(df1.head())\n",
    "    a = df1.TP.sum()\n",
    "    b = df1.FN.sum()\n",
    "    c = df1.FP.sum()\n",
    "    d = df1.TN.sum()\n",
    "    #print(\"Leave\", p_num, 'out analysis:')\n",
    "    #print('')\n",
    "    #print('|', a, '|', b, '|')\n",
    "    #print('|', c, '|', d, '|')\n",
    "    #print('')\n",
    "    total_accuracy = (a + d)/(a + b + c + d)\n",
    "    #print('Total accuracy:', total_accuracy)\n",
    "    #print('Sum:')\n",
    "    #print(a + b + c + d)\n",
    "    df2.loc[len(df2.index)] = [p_num, total_accuracy]\n",
    "    #print('')\n",
    "    #print(df2.head())\n",
    "    #print('')"
   ]
  },
  {
   "cell_type": "code",
   "execution_count": 115,
   "id": "32a8fa73",
   "metadata": {},
   "outputs": [
    {
     "data": {
      "text/plain": [
       "<matplotlib.axes._subplots.AxesSubplot at 0x1653b0585c0>"
      ]
     },
     "execution_count": 115,
     "metadata": {},
     "output_type": "execute_result"
    },
    {
     "data": {
      "image/png": "[encoded data removed]",
      "text/plain": [
       "<Figure size 720x648 with 1 Axes>"
      ]
     },
     "metadata": {
      "needs_background": "light"
     },
     "output_type": "display_data"
    }
   ],
   "source": [
    "df2.plot(x=\"p_out\", y=[\"accuracy\"], kind=\"line\", figsize=(10, 9))"
   ]
  },
  {
   "cell_type": "code",
   "execution_count": 72,
   "id": "4b96312f",
   "metadata": {},
   "outputs": [],
   "source": [
    "###########################\n",
    "# Include one example tree(with most important variable first)\n",
    "###########################"
   ]
  },
  {
   "cell_type": "code",
   "execution_count": 8,
   "id": "294f38df",
   "metadata": {},
   "outputs": [
    {
     "name": "stdout",
     "output_type": "stream",
     "text": [
      "here\n",
      "here\n",
      "here\n",
      "here\n",
      "here\n",
      "here\n",
      "here\n",
      "here\n",
      "here\n",
      "here\n",
      "here\n",
      "here\n",
      "here\n",
      "here\n",
      "here\n",
      "here\n",
      "here\n",
      "here\n",
      "here\n",
      "here\n",
      "here\n",
      "here\n",
      "here\n"
     ]
    },
    {
     "ename": "KeyboardInterrupt",
     "evalue": "",
     "output_type": "error",
     "traceback": [
      "\u001b[1;31m---------------------------------------------------------------------------\u001b[0m",
      "\u001b[1;31mKeyboardInterrupt\u001b[0m                         Traceback (most recent call last)",
      "\u001b[1;32m<ipython-input-8-767107721948>\u001b[0m in \u001b[0;36m<module>\u001b[1;34m()\u001b[0m\n\u001b[0;32m     23\u001b[0m         \u001b[0my_train\u001b[0m\u001b[1;33m,\u001b[0m \u001b[0my_test\u001b[0m \u001b[1;33m=\u001b[0m \u001b[0my\u001b[0m\u001b[1;33m[\u001b[0m\u001b[0mtrain_index\u001b[0m\u001b[1;33m]\u001b[0m\u001b[1;33m,\u001b[0m \u001b[0my\u001b[0m\u001b[1;33m[\u001b[0m\u001b[0mtest_index\u001b[0m\u001b[1;33m]\u001b[0m\u001b[1;33m\u001b[0m\u001b[0m\n\u001b[0;32m     24\u001b[0m         \u001b[0mdt_classifier\u001b[0m \u001b[1;33m=\u001b[0m \u001b[0mDecisionTreeClassifier\u001b[0m\u001b[1;33m(\u001b[0m\u001b[0mrandom_state\u001b[0m\u001b[1;33m=\u001b[0m\u001b[1;36m1693\u001b[0m\u001b[1;33m,\u001b[0m \u001b[0mmax_depth\u001b[0m\u001b[1;33m=\u001b[0m\u001b[1;36m3\u001b[0m\u001b[1;33m,\u001b[0m \u001b[0mmin_samples_leaf\u001b[0m\u001b[1;33m=\u001b[0m\u001b[1;36m4\u001b[0m\u001b[1;33m)\u001b[0m\u001b[1;33m\u001b[0m\u001b[0m\n\u001b[1;32m---> 25\u001b[1;33m         \u001b[0mdt_classifier\u001b[0m\u001b[1;33m.\u001b[0m\u001b[0mfit\u001b[0m\u001b[1;33m(\u001b[0m\u001b[0mX_train\u001b[0m\u001b[1;33m,\u001b[0m \u001b[0my_train\u001b[0m\u001b[1;33m)\u001b[0m\u001b[1;33m\u001b[0m\u001b[0m\n\u001b[0m\u001b[0;32m     26\u001b[0m \u001b[1;33m\u001b[0m\u001b[0m\n\u001b[0;32m     27\u001b[0m         \u001b[1;31m### Chunk containing info on most important Genuses\u001b[0m\u001b[1;33m\u001b[0m\u001b[1;33m\u001b[0m\u001b[0m\n",
      "\u001b[1;32mC:\\Users\\15404\\anaconda3.1\\envs\\conda_aml5\\lib\\site-packages\\sklearn\\tree\\tree.py\u001b[0m in \u001b[0;36mfit\u001b[1;34m(self, X, y, sample_weight, check_input, X_idx_sorted)\u001b[0m\n\u001b[0;32m    788\u001b[0m             \u001b[0msample_weight\u001b[0m\u001b[1;33m=\u001b[0m\u001b[0msample_weight\u001b[0m\u001b[1;33m,\u001b[0m\u001b[1;33m\u001b[0m\u001b[0m\n\u001b[0;32m    789\u001b[0m             \u001b[0mcheck_input\u001b[0m\u001b[1;33m=\u001b[0m\u001b[0mcheck_input\u001b[0m\u001b[1;33m,\u001b[0m\u001b[1;33m\u001b[0m\u001b[0m\n\u001b[1;32m--> 790\u001b[1;33m             X_idx_sorted=X_idx_sorted)\n\u001b[0m\u001b[0;32m    791\u001b[0m         \u001b[1;32mreturn\u001b[0m \u001b[0mself\u001b[0m\u001b[1;33m\u001b[0m\u001b[0m\n\u001b[0;32m    792\u001b[0m \u001b[1;33m\u001b[0m\u001b[0m\n",
      "\u001b[1;32mC:\\Users\\15404\\anaconda3.1\\envs\\conda_aml5\\lib\\site-packages\\sklearn\\tree\\tree.py\u001b[0m in \u001b[0;36mfit\u001b[1;34m(self, X, y, sample_weight, check_input, X_idx_sorted)\u001b[0m\n\u001b[0;32m    360\u001b[0m                                            min_impurity_split)\n\u001b[0;32m    361\u001b[0m \u001b[1;33m\u001b[0m\u001b[0m\n\u001b[1;32m--> 362\u001b[1;33m         \u001b[0mbuilder\u001b[0m\u001b[1;33m.\u001b[0m\u001b[0mbuild\u001b[0m\u001b[1;33m(\u001b[0m\u001b[0mself\u001b[0m\u001b[1;33m.\u001b[0m\u001b[0mtree_\u001b[0m\u001b[1;33m,\u001b[0m \u001b[0mX\u001b[0m\u001b[1;33m,\u001b[0m \u001b[0my\u001b[0m\u001b[1;33m,\u001b[0m \u001b[0msample_weight\u001b[0m\u001b[1;33m,\u001b[0m \u001b[0mX_idx_sorted\u001b[0m\u001b[1;33m)\u001b[0m\u001b[1;33m\u001b[0m\u001b[0m\n\u001b[0m\u001b[0;32m    363\u001b[0m \u001b[1;33m\u001b[0m\u001b[0m\n\u001b[0;32m    364\u001b[0m         \u001b[1;32mif\u001b[0m \u001b[0mself\u001b[0m\u001b[1;33m.\u001b[0m\u001b[0mn_outputs_\u001b[0m \u001b[1;33m==\u001b[0m \u001b[1;36m1\u001b[0m\u001b[1;33m:\u001b[0m\u001b[1;33m\u001b[0m\u001b[0m\n",
      "\u001b[1;31mKeyboardInterrupt\u001b[0m: "
     ]
    }
   ],
   "source": [
    "c = {'p_out': [], 'accuracy': []}\n",
    "\n",
    "df2 = pd.DataFrame(columns = ['p_out', 'accuracy'])\n",
    "df2.head()\n",
    "\n",
    "import numpy as np\n",
    "from sklearn.model_selection import LeavePOut\n",
    "genus_total_list = []\n",
    "#p_num_list = list(range(1,41))\n",
    "#p_num_list = [5,10,20,30,40]\n",
    "p_num_list = [41]\n",
    "for j in p_num_list:\n",
    "    p_num = j\n",
    "    d = {'TP': [], 'FN': [], 'FP': [], 'TN': []}\n",
    "    df1 = pd.DataFrame(data=d)\n",
    "    \n",
    "    rs = ShuffleSplit(n_splits=1000, test_size= float(j/81), random_state=1693)\n",
    "    rs.get_n_splits(X)\n",
    "    \n",
    "    FN_FP_TP_TN = []\n",
    "    for train_index, test_index in rs.split(X):\n",
    "        X_train, X_test = X[train_index], X[test_index]\n",
    "        y_train, y_test = y[train_index], y[test_index]\n",
    "        dt_classifier = DecisionTreeClassifier(random_state=1693, max_depth=3, min_samples_leaf=4)\n",
    "        dt_classifier.fit(X_train, y_train)\n",
    "                \n",
    "        ### Chunk containing info on most important Genuses\n",
    "        dt_list = list(dt_classifier.feature_importances_)\n",
    "        genus_total_list.append(dt_list.index(max(dt_list)))\n",
    "        \n",
    "        ### Saves a DT tree\n",
    "        if dt_list.index(max(dt_list)) == 499:\n",
    "            print('here')\n",
    "            tree.export_graphviz(dt_classifier, out_file = \"tree_dt1.dot\")\n",
    "\n",
    "\n",
    "        \n",
    "        temp_list = [0, 0, 0, 0]\n",
    "        y_pred = dt_classifier.predict(X_test)\n",
    "        for i in range(len(y_test)):\n",
    "            if (y_pred[i]) == 0 and y_test[i][0] == 1:\n",
    "                temp_list[0] += 1\n",
    "            elif (y_pred[i]) == 1 and y_test[i][0] == 0:\n",
    "                temp_list[1] += 1\n",
    "            elif (y_pred[i]) == 1 and y_test[i][0] == 1:\n",
    "                temp_list[2] += 1\n",
    "            elif (y_pred[i]) == 0 and y_test[i][0] == 0:\n",
    "                temp_list[3] += 1\n",
    "        FN_FP_TP_TN.append(temp_list)\n",
    "    #print(j)\n",
    "    for i in range(len(FN_FP_TP_TN)):\n",
    "        df1.loc[len(df1.index)] = FN_FP_TP_TN[i]\n",
    "\n",
    "    a = df1.TP.sum()\n",
    "    b = df1.FN.sum()\n",
    "    c = df1.FP.sum()\n",
    "    d = df1.TN.sum()\n",
    "\n",
    "    total_accuracy = (a + d)/(a + b + c + d)\n",
    "\n",
    "    df2.loc[len(df2.index)] = [p_num, total_accuracy]"
   ]
  },
  {
   "cell_type": "code",
   "execution_count": 9,
   "id": "2b2194e8",
   "metadata": {},
   "outputs": [
    {
     "name": "stdout",
     "output_type": "stream",
     "text": [
      "Marinicaulis\n",
      "Promicromonospora\n"
     ]
    }
   ],
   "source": [
    "# 499, 161\n",
    "print((column_list[499].split(\"|\"))[-1:][0])\n",
    "print((column_list[161].split(\"|\"))[-1:][0])\n"
   ]
  },
  {
   "cell_type": "code",
   "execution_count": null,
   "id": "355c3176",
   "metadata": {},
   "outputs": [],
   "source": [
    "########################################\n",
    "# Leave N out and produce bacteria genera bar graph\n",
    "########################################"
   ]
  },
  {
   "cell_type": "code",
   "execution_count": 116,
   "id": "6a3ccf82",
   "metadata": {},
   "outputs": [
    {
     "name": "stdout",
     "output_type": "stream",
     "text": [
      "40\n"
     ]
    }
   ],
   "source": [
    "c = {'p_out': [], 'accuracy': []}\n",
    "\n",
    "\n",
    "df2 = pd.DataFrame(columns = ['p_out', 'accuracy'])\n",
    "df2.head()\n",
    "\n",
    "import numpy as np\n",
    "from sklearn.model_selection import LeavePOut\n",
    "genus_total_list = []\n",
    "\n",
    "p_num_list = [40]\n",
    "for j in p_num_list:\n",
    "    p_num = j\n",
    "    d = {'TP': [], 'FN': [], 'FP': [], 'TN': []}\n",
    "    df1 = pd.DataFrame(data=d)\n",
    "    \n",
    "    rs = ShuffleSplit(n_splits=10000, test_size= float(j/81), random_state=1693)\n",
    "    rs.get_n_splits(X)\n",
    "    \n",
    "    FN_FP_TP_TN = []\n",
    "    for train_index, test_index in rs.split(X):\n",
    "        X_train, X_test = X[train_index], X[test_index]\n",
    "        y_train, y_test = y[train_index], y[test_index]\n",
    "        dt_classifier = DecisionTreeClassifier(random_state=1693, max_depth=3, min_samples_leaf=4)\n",
    "        dt_classifier.fit(X_train, y_train)\n",
    "        \n",
    "        \n",
    "        ### Chunk containing info on most important Genuses\n",
    "        dt_list = list(dt_classifier.feature_importances_)\n",
    "        genus_total_list.append(dt_list.index(max(dt_list)))\n",
    "        \n",
    "\n",
    "        temp_list = [0, 0, 0, 0]\n",
    "        y_pred = dt_classifier.predict(X_test)\n",
    "\n",
    "        for i in range(len(y_test)):\n",
    "            if (y_pred[i]) == 0 and y_test[i][0] == 1:\n",
    "                temp_list[0] += 1\n",
    "            elif (y_pred[i]) == 1 and y_test[i][0] == 0:\n",
    "                temp_list[1] += 1\n",
    "            elif (y_pred[i]) == 1 and y_test[i][0] == 1:\n",
    "                temp_list[2] += 1\n",
    "            elif (y_pred[i]) == 0 and y_test[i][0] == 0:\n",
    "                temp_list[3] += 1\n",
    "        FN_FP_TP_TN.append(temp_list)\n",
    "    print(j)\n",
    "    #print(FN_FP_TP_TN)\n",
    "    for i in range(len(FN_FP_TP_TN)):\n",
    "        df1.loc[len(df1.index)] = FN_FP_TP_TN[i]\n",
    "    #print(df1.head())\n",
    "    a = df1.TP.sum()\n",
    "    b = df1.FN.sum()\n",
    "    c = df1.FP.sum()\n",
    "    d = df1.TN.sum()\n",
    "    #print(\"Leave\", p_num, 'out analysis:')\n",
    "    #print('')\n",
    "    #print('|', a, '|', b, '|')\n",
    "    #print('|', c, '|', d, '|')\n",
    "    #print('')\n",
    "    total_accuracy = (a + d)/(a + b + c + d)\n",
    "    #print('Total accuracy:', total_accuracy)\n",
    "    #print('Sum:')\n",
    "    #print(a + b + c + d)\n",
    "    df2.loc[len(df2.index)] = [p_num, total_accuracy]\n",
    "    #print('')\n",
    "    #print(df2.head())\n",
    "    #print('')"
   ]
  },
  {
   "cell_type": "code",
   "execution_count": 117,
   "id": "b856c778",
   "metadata": {},
   "outputs": [
    {
     "name": "stdout",
     "output_type": "stream",
     "text": [
      "10000\n"
     ]
    }
   ],
   "source": [
    "print(len(genus_total_list))"
   ]
  },
  {
   "cell_type": "code",
   "execution_count": 123,
   "id": "b355a7ae",
   "metadata": {},
   "outputs": [
    {
     "name": "stdout",
     "output_type": "stream",
     "text": [
      "46\n",
      "49\n"
     ]
    },
    {
     "data": {
      "text/plain": [
       "<BarContainer object of 5 artists>"
      ]
     },
     "execution_count": 123,
     "metadata": {},
     "output_type": "execute_result"
    },
    {
     "data": {
      "image/png": "[encoded data removed]",
      "text/plain": [
       "<Figure size 720x432 with 1 Axes>"
      ]
     },
     "metadata": {
      "needs_background": "light"
     },
     "output_type": "display_data"
    }
   ],
   "source": [
    "unique_genera = []\n",
    "for item in genus_total_list:\n",
    "    if item not in unique_genera:\n",
    "        unique_genera.append(item)\n",
    "\n",
    "genera_count= list(range(len(unique_genera)))\n",
    "for i in range(len(unique_genera)):\n",
    "    genera_count[i] = genus_total_list.count(unique_genera[i])\n",
    "    \n",
    "max_list = sorted(genera_count[:-10])\n",
    "final_max = (max_list[-10:])\n",
    "#print(final_max) \n",
    "\n",
    "X_list = []\n",
    "y_list = []\n",
    "for i in final_max:\n",
    "    X_list.append(str(unique_genera[genera_count.index(i)]))\n",
    "    y_list.append(i)\n",
    "\n",
    "for i in range(len(genera_count)):\n",
    "    if genera_count[i] == 23:\n",
    "        print(i)\n",
    "\n",
    "#X_list[1] = str(unique_genera[82])\n",
    "\n",
    "#print(X_list)\n",
    "#print(y_list)\n",
    "\n",
    "genus_list = []\n",
    "for i in X_list:\n",
    "    genus_list.append(column_list[int(i)])\n",
    "\n",
    "final_genus_list = []\n",
    "for i in genus_list:\n",
    "    final_genus_list.append((i.split(\"|\"))[-1:][0])\n",
    "    #print(i)\n",
    "    #print(genus)\n",
    "#print(final_genus_list)\n",
    "\n",
    "fig= plt.figure(figsize=(10,6))\n",
    "plt.bar(final_genus_list[-5:], y_list[-5:])"
   ]
  },
  {
   "cell_type": "code",
   "execution_count": null,
   "id": "73e75a3a",
   "metadata": {},
   "outputs": [],
   "source": [
    "######################\n",
    "#Create distribution graph of a accuracy of each model\n",
    "######################"
   ]
  },
  {
   "cell_type": "code",
   "execution_count": 103,
   "id": "76ccc3cc",
   "metadata": {
    "scrolled": true
   },
   "outputs": [
    {
     "name": "stdout",
     "output_type": "stream",
     "text": [
      "20\n",
      "   p_out  accuracy\n",
      "0   20.0  0.836835\n"
     ]
    }
   ],
   "source": [
    "c = {'p_out': [], 'accuracy': []}\n",
    "\n",
    "\n",
    "df2 = pd.DataFrame(columns = ['p_out', 'accuracy'])\n",
    "df2.head()\n",
    "\n",
    "import numpy as np\n",
    "from sklearn.model_selection import LeavePOut\n",
    "#genus_total_list = []\n",
    "\n",
    "p_num_list = [20]\n",
    "for j in p_num_list:\n",
    "    p_num = j\n",
    "    d = {'TP': [], 'FN': [], 'FP': [], 'TN': []}\n",
    "    df1 = pd.DataFrame(data=d)\n",
    "    \n",
    "    rs = ShuffleSplit(n_splits=10000, test_size= float(j/81), random_state=1693)\n",
    "    rs.get_n_splits(X)\n",
    "    \n",
    "    FN_FP_TP_TN = []\n",
    "    for train_index, test_index in rs.split(X):\n",
    "        X_train, X_test = X[train_index], X[test_index]\n",
    "        y_train, y_test = y[train_index], y[test_index]\n",
    "        dt_classifier = DecisionTreeClassifier(random_state=1693, max_depth=3, min_samples_leaf=4)\n",
    "        dt_classifier.fit(X_train, y_train)\n",
    "        \n",
    "        \n",
    "        ### Chunk containing info on most important Genuses\n",
    "        #dt_list = list(dt_classifier.feature_importances_)\n",
    "        #genus_total_list.append(dt_list.index(max(dt_list)))\n",
    "        \n",
    "\n",
    "        temp_list = [0, 0, 0, 0]\n",
    "        y_pred = dt_classifier.predict(X_test)\n",
    "\n",
    "        for i in range(len(y_test)):\n",
    "            if (y_pred[i]) == 0 and y_test[i][0] == 1:\n",
    "                temp_list[0] += 1\n",
    "            elif (y_pred[i]) == 1 and y_test[i][0] == 0:\n",
    "                temp_list[1] += 1\n",
    "            elif (y_pred[i]) == 1 and y_test[i][0] == 1:\n",
    "                temp_list[2] += 1\n",
    "            elif (y_pred[i]) == 0 and y_test[i][0] == 0:\n",
    "                temp_list[3] += 1\n",
    "        FN_FP_TP_TN.append(temp_list)\n",
    "    print(j)\n",
    "    #print(FN_FP_TP_TN)\n",
    "    for i in range(len(FN_FP_TP_TN)):\n",
    "        df1.loc[len(df1.index)] = FN_FP_TP_TN[i]\n",
    "    #print(df1.head())\n",
    "    a = df1.TP.sum()\n",
    "    b = df1.FN.sum()\n",
    "    c = df1.FP.sum()\n",
    "    d = df1.TN.sum()\n",
    "    #print(\"Leave\", p_num, 'out analysis:')\n",
    "    #print('')\n",
    "    #print('|', a, '|', b, '|')\n",
    "    #print('|', c, '|', d, '|')\n",
    "    #print('')\n",
    "    total_accuracy = (a + d)/(a + b + c + d)\n",
    "    #print('Total accuracy:', total_accuracy)\n",
    "    #print('Sum:')\n",
    "    #print(a + b + c + d)\n",
    "    df2.loc[len(df2.index)] = [p_num, total_accuracy]\n",
    "    #print('')\n",
    "    print(df2.head())\n",
    "    #print('')"
   ]
  },
  {
   "cell_type": "code",
   "execution_count": 1,
   "id": "a274f745",
   "metadata": {},
   "outputs": [
    {
     "ename": "NameError",
     "evalue": "name 'np' is not defined",
     "output_type": "error",
     "traceback": [
      "\u001b[1;31m---------------------------------------------------------------------------\u001b[0m",
      "\u001b[1;31mNameError\u001b[0m                                 Traceback (most recent call last)",
      "\u001b[1;32m<ipython-input-1-777f0be4e27d>\u001b[0m in \u001b[0;36m<module>\u001b[1;34m()\u001b[0m\n\u001b[0;32m      1\u001b[0m \u001b[1;31m# Barchart displaying variance in Leave N out for 20\u001b[0m\u001b[1;33m\u001b[0m\u001b[1;33m\u001b[0m\u001b[0m\n\u001b[1;32m----> 2\u001b[1;33m \u001b[0mx\u001b[0m \u001b[1;33m=\u001b[0m \u001b[0mnp\u001b[0m\u001b[1;33m.\u001b[0m\u001b[0mlinspace\u001b[0m\u001b[1;33m(\u001b[0m\u001b[1;36m0\u001b[0m\u001b[1;33m,\u001b[0m \u001b[1;36m1\u001b[0m\u001b[1;33m,\u001b[0m \u001b[1;36m21\u001b[0m\u001b[1;33m)\u001b[0m\u001b[1;33m\u001b[0m\u001b[0m\n\u001b[0m\u001b[0;32m      3\u001b[0m \u001b[0mx_list\u001b[0m \u001b[1;33m=\u001b[0m \u001b[1;33m[\u001b[0m\u001b[1;33m]\u001b[0m\u001b[1;33m\u001b[0m\u001b[0m\n\u001b[0;32m      4\u001b[0m \u001b[1;32mfor\u001b[0m \u001b[0ml\u001b[0m \u001b[1;32min\u001b[0m \u001b[0mrange\u001b[0m\u001b[1;33m(\u001b[0m\u001b[0mlen\u001b[0m\u001b[1;33m(\u001b[0m\u001b[0mx\u001b[0m\u001b[1;33m)\u001b[0m\u001b[1;33m)\u001b[0m\u001b[1;33m:\u001b[0m\u001b[1;33m\u001b[0m\u001b[0m\n\u001b[0;32m      5\u001b[0m     \u001b[0mx_list\u001b[0m\u001b[1;33m.\u001b[0m\u001b[0mappend\u001b[0m\u001b[1;33m(\u001b[0m\u001b[0mstr\u001b[0m\u001b[1;33m(\u001b[0m\u001b[0mround\u001b[0m\u001b[1;33m(\u001b[0m\u001b[0mx\u001b[0m\u001b[1;33m[\u001b[0m\u001b[0ml\u001b[0m\u001b[1;33m]\u001b[0m\u001b[1;33m,\u001b[0m\u001b[1;36m2\u001b[0m\u001b[1;33m)\u001b[0m\u001b[1;33m)\u001b[0m\u001b[1;33m)\u001b[0m\u001b[1;33m\u001b[0m\u001b[0m\n",
      "\u001b[1;31mNameError\u001b[0m: name 'np' is not defined"
     ]
    }
   ],
   "source": [
    "# Barchart displaying variance in Leave N out for 20\n",
    "x = np.linspace(0, 1, 21)\n",
    "x_list = []\n",
    "for l in range(len(x)):\n",
    "    x_list.append(str(round(x[l],2)))\n",
    "bar_list = [None] * 21\n",
    "for b in range(len(bar_list)):\n",
    "    bar_list[b] = 0\n",
    "for i, row in df1.iterrows():\n",
    "    bar_list[int(row['TN'] + row['TP'])] += 1\n",
    "\n",
    "#print(x_list)\n",
    "fig= plt.figure(figsize=(9,6))\n",
    "plt.bar(x_list, bar_list)\n"
   ]
  },
  {
   "cell_type": "code",
   "execution_count": null,
   "id": "963a20b7",
   "metadata": {},
   "outputs": [],
   "source": []
  }
 ],
 "metadata": {
  "kernelspec": {
   "display_name": "Python [conda env:conda_aml5]",
   "language": "python",
   "name": "conda-env-conda_aml5-py"
  },
  "language_info": {
   "codemirror_mode": {
    "name": "ipython",
    "version": 3
   },
   "file_extension": ".py",
   "mimetype": "text/x-python",
   "name": "python",
   "nbconvert_exporter": "python",
   "pygments_lexer": "ipython3",
   "version": "3.5.6"
  }
 },
 "nbformat": 4,
 "nbformat_minor": 5
}
