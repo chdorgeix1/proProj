{
 "cells": [
  {
   "cell_type": "code",
   "execution_count": 2,
   "id": "45c969ac",
   "metadata": {},
   "outputs": [],
   "source": [
    "import numpy as np\n",
    "import pandas as pd\n",
    "import matplotlib.pyplot as plt\n",
    "from sklearn.naive_bayes import GaussianNB\n",
    "from sklearn.decomposition import PCA\n",
    "from sklearn.decomposition import KernelPCA\n",
    "from sklearn.model_selection import train_test_split\n",
    "from sklearn.preprocessing import StandardScaler\n",
    "from sklearn import tree\n",
    "from sklearn.ensemble import RandomForestRegressor\n",
    "from sklearn.metrics import mean_absolute_error\n",
    "from sklearn.model_selection import ShuffleSplit\n",
    "from sklearn.tree import DecisionTreeClassifier\n",
    "from sklearn.model_selection import cross_val_score\n",
    "from sklearn.model_selection import GridSearchCV\n",
    "\n",
    "df = pd.read_csv('genus_output.csv')"
   ]
  },
  {
   "cell_type": "code",
   "execution_count": 3,
   "id": "f4020460",
   "metadata": {},
   "outputs": [],
   "source": [
    "#Checked off\n",
    "# Leave N outs decline\n",
    "# Create bar chart most important variable\n",
    "# include one example tree(with most important variable first)\n",
    "# Keep leaving N out up to half dataset\n",
    "\n",
    "df.head()\n",
    "\n",
    "df.shape\n",
    "\n",
    "df.head()\n",
    "\n",
    "spec_list = ['e', 's']\n",
    "\n",
    "df = df[df.species.isin(spec_list)]\n",
    "\n",
    "X = df.drop(['SAMPLE', 'Site', 'species'], axis = 1)\n",
    "X.head()\n",
    "\n",
    "column_list = X.columns.values.tolist()\n",
    "\n",
    "\n",
    "X = X.values\n",
    "\n",
    "\n",
    "y = df['species']\n",
    "\n",
    "y = pd.get_dummies(y)\n",
    "\n",
    "y.rename(columns = {'e':'species'}, inplace = True)\n",
    "\n",
    "y = y.drop(['s'], axis = 1)\n",
    "y.head()\n",
    "\n",
    "y = y.values"
   ]
  },
  {
   "cell_type": "code",
   "execution_count": 4,
   "id": "6b4a00e6",
   "metadata": {
    "scrolled": true
   },
   "outputs": [
    {
     "name": "stdout",
     "output_type": "stream",
     "text": [
      "0.994281156606009\n"
     ]
    },
    {
     "data": {
      "image/png": "[encoded data removed]",
      "text/plain": [
       "<Figure size 432x288 with 1 Axes>"
      ]
     },
     "metadata": {
      "needs_background": "light"
     },
     "output_type": "display_data"
    }
   ],
   "source": [
    "pca = PCA(n_components = 25)\n",
    "X_pca = pca.fit_transform(X)\n",
    "\n",
    "print(sum(pca.explained_variance_ratio_))\n",
    "\n",
    "plt.plot(pca.explained_variance_ratio_)\n",
    "plt.xticks([0,1,2,3,4])\n",
    "plt.ylabel(\"PCA Variance Explained\")\n",
    "plt.show()"
   ]
  },
  {
   "cell_type": "code",
   "execution_count": 5,
   "id": "22204429",
   "metadata": {},
   "outputs": [],
   "source": [
    "##########################\n",
    "#Grid search for hyper parameters\n",
    "##########################"
   ]
  },
  {
   "cell_type": "code",
   "execution_count": 6,
   "id": "dc943147",
   "metadata": {},
   "outputs": [],
   "source": [
    "c = {'p_out': [], 'accuracy': []}\n",
    "\n",
    "\n",
    "df2 = pd.DataFrame(columns = ['p_out', 'accuracy'])\n",
    "df2.head()\n",
    "\n",
    "import numpy as np\n",
    "from sklearn.model_selection import LeavePOut\n",
    "\n",
    "\n",
    "param_list = []\n",
    "\n",
    "p_num_list = [3]\n",
    "for j in p_num_list:\n",
    "    p_num = j\n",
    "    d = {'TP': [], 'FN': [], 'FP': [], 'TN': []}\n",
    "    df1 = pd.DataFrame(data=d)\n",
    "    \n",
    "    rs = ShuffleSplit(n_splits=150, test_size= float(j/81), random_state=1693)\n",
    "    rs.get_n_splits(X)\n",
    "    \n",
    "    FN_FP_TP_TN = []\n",
    "    for train_index, test_index in rs.split(X):\n",
    "        X_train, X_test = X[train_index], X[test_index]\n",
    "        y_train, y_test = y[train_index], y[test_index]\n",
    "        dt_classifier = DecisionTreeClassifier(random_state=1693, max_depth=3, min_samples_leaf=4)\n",
    "        dt_classifier.fit(X_train, y_train)\n",
    "\n",
    "        \n",
    "        \n",
    "        params =  [{\"max_depth\":[1,2,3,4,5,6,7,8,9,10], \n",
    "            \"min_samples_leaf\":[1,2,3,4,5,6,10,12,14,16,18,20]  \n",
    "          }]\n",
    "\n",
    "        gSearch = GridSearchCV(estimator=dt_classifier,\n",
    "                       param_grid=params,\n",
    "                       scoring='accuracy',\n",
    "                       cv = 2\n",
    "                      )\n",
    "        \n",
    "        \n",
    "        gSearch_results = gSearch.fit(X_train, y_train)\n",
    "        \n",
    "        \n",
    "        #(gSearch_results)\n",
    "        \n",
    "        param_list.append(gSearch_results.best_params_)\n",
    "        #print(gSearch_results.best_score_)\n",
    "        \n",
    "        \n",
    "        #from sklearn import tree\n",
    "        #tree_sample = tree.export_graphviz(dt_classifier, out_file = \"tree_dt.dot\")\n",
    "        \n",
    "        temp_list = [0, 0, 0, 0]\n",
    "        y_pred = dt_classifier.predict(X_test)\n",
    "        #print(y_pred)\n",
    "        #print(y_test)\n",
    "        for i in range(len(y_test)):\n",
    "            if (y_pred[i]) == 0 and y_test[i][0] == 1:\n",
    "                temp_list[0] += 1\n",
    "            elif (y_pred[i]) == 1 and y_test[i][0] == 0:\n",
    "                temp_list[1] += 1\n",
    "            elif (y_pred[i]) == 1 and y_test[i][0] == 1:\n",
    "                temp_list[2] += 1\n",
    "            elif (y_pred[i]) == 0 and y_test[i][0] == 0:\n",
    "                temp_list[3] += 1\n",
    "        FN_FP_TP_TN.append(temp_list)\n",
    "    #print(j)\n",
    "    #print(FN_FP_TP_TN)\n",
    "    for i in range(len(FN_FP_TP_TN)):\n",
    "        df1.loc[len(df1.index)] = FN_FP_TP_TN[i]\n",
    "    #print(df1.head())\n",
    "    a = df1.TP.sum()\n",
    "    b = df1.FN.sum()\n",
    "    c = df1.FP.sum()\n",
    "    d = df1.TN.sum()\n",
    "    #print(\"Leave\", p_num, 'out analysis:')\n",
    "    #print('')\n",
    "    #print('|', a, '|', b, '|')\n",
    "    #print('|', c, '|', d, '|')\n",
    "    #print('')\n",
    "    total_accuracy = (a + d)/(a + b + c + d)\n",
    "    #print('Total accuracy:', total_accuracy)\n",
    "    #print('Sum:')\n",
    "    #print(a + b + c + d)\n",
    "    df2.loc[len(df2.index)] = [p_num, total_accuracy]\n",
    "    #print('')\n",
    "    #print(df2.head())\n",
    "    #print('')\n",
    "    \n",
    "#print(param_list)"
   ]
  },
  {
   "cell_type": "code",
   "execution_count": 7,
   "id": "84c51a5b",
   "metadata": {},
   "outputs": [
    {
     "name": "stdout",
     "output_type": "stream",
     "text": [
      "1.3533333333333333\n",
      "4.333333333333333\n"
     ]
    }
   ],
   "source": [
    "depth_list = []\n",
    "leaf_list = []\n",
    "for i in param_list:\n",
    "    depth_list.append(i['max_depth'])\n",
    "    leaf_list.append(i['min_samples_leaf'])\n",
    "print(sum(depth_list)/len(depth_list))\n",
    "print(sum(leaf_list)/len(leaf_list))"
   ]
  },
  {
   "cell_type": "code",
   "execution_count": 8,
   "id": "0310d814",
   "metadata": {},
   "outputs": [],
   "source": [
    "##########################\n",
    "# Leave N outs decline\n",
    "##########################"
   ]
  },
  {
   "cell_type": "code",
   "execution_count": 9,
   "id": "227d8adf",
   "metadata": {
    "scrolled": false
   },
   "outputs": [
    {
     "name": "stdout",
     "output_type": "stream",
     "text": [
      "1\n",
      "2\n",
      "3\n",
      "4\n",
      "5\n",
      "6\n",
      "7\n",
      "8\n",
      "9\n",
      "10\n",
      "11\n",
      "12\n",
      "13\n",
      "14\n",
      "15\n",
      "16\n",
      "17\n",
      "18\n",
      "19\n",
      "20\n",
      "21\n",
      "22\n",
      "23\n",
      "24\n",
      "25\n",
      "26\n",
      "27\n",
      "28\n",
      "29\n",
      "30\n",
      "31\n",
      "32\n",
      "33\n",
      "34\n",
      "35\n",
      "36\n",
      "37\n",
      "38\n",
      "39\n",
      "40\n"
     ]
    }
   ],
   "source": [
    "c = {'p_out': [], 'accuracy': []}\n",
    "\n",
    "\n",
    "df2 = pd.DataFrame(columns = ['p_out', 'accuracy'])\n",
    "df2.head()\n",
    "\n",
    "import numpy as np\n",
    "from sklearn.model_selection import LeavePOut\n",
    "genus_total_list = []\n",
    "p_num_list = list(range(1,41))\n",
    "#p_num_list = [5,10,20,30,40]\n",
    "#p_num_list = [40]\n",
    "for j in p_num_list:\n",
    "    p_num = j\n",
    "    d = {'TP': [], 'FN': [], 'FP': [], 'TN': []}\n",
    "    df1 = pd.DataFrame(data=d)\n",
    "    \n",
    "    rs = ShuffleSplit(n_splits=10000, test_size= float(j/81), random_state=1693)\n",
    "    rs.get_n_splits(X)\n",
    "    \n",
    "    FN_FP_TP_TN = []\n",
    "    for train_index, test_index in rs.split(X):\n",
    "        X_train, X_test = X[train_index], X[test_index]\n",
    "        y_train, y_test = y[train_index], y[test_index]\n",
    "        dt_classifier = DecisionTreeClassifier(random_state=1693, max_depth=2, min_samples_leaf=4)\n",
    "        dt_classifier.fit(X_train, y_train)\n",
    "        \n",
    "        #counter = 0\n",
    "        #for i in dt_classifier.feature_importances_:\n",
    "        #    if i != 0:\n",
    "        #        genus_total_list.append(counter)\n",
    "        #    counter += 1\n",
    "        \n",
    "        ### Chunk containing info on most important Genuses\n",
    "        dt_list = list(dt_classifier.feature_importances_)\n",
    "        genus_total_list.append(dt_list.index(max(dt_list)))\n",
    "        \n",
    "        #if dt_list.index(max(dt_list)) == 499:\n",
    "            #print('here')\n",
    "        #    tree.export_graphviz(dt_classifier, out_file = \"tree_dt1.dot\")\n",
    "\n",
    "        ###\n",
    "        \n",
    "        '''\n",
    "        params =  [{\"max_depth\":[1,2,3,4,5,6,7,8,9,10], \n",
    "            \"min_samples_leaf\":[1,2,3,4,5,6,10,12,14,16,18,20]  \n",
    "          }]\n",
    "\n",
    "        gSearch = GridSearchCV(estimator=dt_classifier,\n",
    "                       param_grid=params,\n",
    "                       scoring='accuracy',\n",
    "                       cv=10 \n",
    "                      )\n",
    "        \n",
    "        \n",
    "        gSearch_results = gSearch.fit(X_train, y_train)\n",
    "        \n",
    "        \n",
    "        #(gSearch_results)\n",
    "        #print(gSearch_results.best_params_)\n",
    "        #print(gSearch_results.best_score_)\n",
    "        '''\n",
    "        \n",
    "        #from sklearn import tree\n",
    "        #tree_sample = tree.export_graphviz(dt_classifier, out_file = \"tree_dt.dot\")\n",
    "        \n",
    "        temp_list = [0, 0, 0, 0]\n",
    "        y_pred = dt_classifier.predict(X_test)\n",
    "        #print(y_pred)\n",
    "        #print(y_test)\n",
    "        for i in range(len(y_test)):\n",
    "            if (y_pred[i]) == 0 and y_test[i][0] == 1:\n",
    "                temp_list[0] += 1\n",
    "            elif (y_pred[i]) == 1 and y_test[i][0] == 0:\n",
    "                temp_list[1] += 1\n",
    "            elif (y_pred[i]) == 1 and y_test[i][0] == 1:\n",
    "                temp_list[2] += 1\n",
    "            elif (y_pred[i]) == 0 and y_test[i][0] == 0:\n",
    "                temp_list[3] += 1\n",
    "        FN_FP_TP_TN.append(temp_list)\n",
    "    print(j)\n",
    "    #print(FN_FP_TP_TN)\n",
    "    for i in range(len(FN_FP_TP_TN)):\n",
    "        df1.loc[len(df1.index)] = FN_FP_TP_TN[i]\n",
    "    #print(df1.head())\n",
    "    a = df1.TP.sum()\n",
    "    b = df1.FN.sum()\n",
    "    c = df1.FP.sum()\n",
    "    d = df1.TN.sum()\n",
    "    #print(\"Leave\", p_num, 'out analysis:')\n",
    "    #print('')\n",
    "    #print('|', a, '|', b, '|')\n",
    "    #print('|', c, '|', d, '|')\n",
    "    #print('')\n",
    "    total_accuracy = (a + d)/(a + b + c + d)\n",
    "    #print('Total accuracy:', total_accuracy)\n",
    "    #print('Sum:')\n",
    "    #print(a + b + c + d)\n",
    "    df2.loc[len(df2.index)] = [p_num, total_accuracy]\n",
    "    #print('')\n",
    "    #print(df2.head())\n",
    "    #print('')"
   ]
  },
  {
   "cell_type": "code",
   "execution_count": 10,
   "id": "c76bbd48",
   "metadata": {},
   "outputs": [
    {
     "name": "stderr",
     "output_type": "stream",
     "text": [
      "C:\\Users\\15404\\anaconda3.1\\envs\\conda_aml5\\lib\\site-packages\\matplotlib\\legend.py:449: UserWarning: The handle <matplotlib.lines.Line2D object at 0x000001806125DF60> has a label of '_nolegend_' which cannot be automatically added to the legend.\n",
      "  'legend.'.format(handle, label))\n"
     ]
    },
    {
     "data": {
      "image/png": "[encoded data removed]",
      "text/plain": [
       "<Figure size 720x648 with 1 Axes>"
      ]
     },
     "metadata": {
      "needs_background": "light"
     },
     "output_type": "display_data"
    }
   ],
   "source": [
    "df2.plot(x=\"p_out\", y=\"accuracy\", kind=\"line\", figsize=(10, 9), color = 'green', linewidth = 3, label = '_nolegend_')\n",
    "plt.rc('axes', titlesize=20) #fontsize of the title\n",
    "plt.rc('axes', labelsize=15) #fontsize of the x and y labels\n",
    "plt.xlabel(\"Number of Data Points Used in Testing Set\")\n",
    "plt.ylabel(\"Accuracy\")\n",
    "plt.title(\"Decision Tree Accuracy across P Out\")\n",
    "plt.show()"
   ]
  },
  {
   "cell_type": "code",
   "execution_count": 11,
   "id": "04a7ac96",
   "metadata": {},
   "outputs": [],
   "source": [
    "###########################\n",
    "# Include one example tree(with most important variable first)\n",
    "# Tree saved as tree_dt.dot \n",
    "# Full tree available on \n",
    "###########################"
   ]
  },
  {
   "cell_type": "code",
   "execution_count": 12,
   "id": "076a6774",
   "metadata": {},
   "outputs": [],
   "source": [
    "c = {'p_out': [], 'accuracy': []}\n",
    "\n",
    "df2 = pd.DataFrame(columns = ['p_out', 'accuracy'])\n",
    "df2.head()\n",
    "\n",
    "import numpy as np\n",
    "from sklearn.model_selection import LeavePOut\n",
    "genus_total_list = []\n",
    "#p_num_list = list(range(1,41))\n",
    "#p_num_list = [5,10,20,30,40]\n",
    "p_num_list = [41]\n",
    "for j in p_num_list:\n",
    "    p_num = j\n",
    "    d = {'TP': [], 'FN': [], 'FP': [], 'TN': []}\n",
    "    df1 = pd.DataFrame(data=d)\n",
    "    \n",
    "    rs = ShuffleSplit(n_splits=1000, test_size= float(j/81), random_state=1693)\n",
    "    rs.get_n_splits(X)\n",
    "    \n",
    "    FN_FP_TP_TN = []\n",
    "    for train_index, test_index in rs.split(X):\n",
    "        X_train, X_test = X[train_index], X[test_index]\n",
    "        y_train, y_test = y[train_index], y[test_index]\n",
    "        dt_classifier = DecisionTreeClassifier(random_state=1693, max_depth=3, min_samples_leaf=4)\n",
    "        dt_classifier.fit(X_train, y_train)\n",
    "                \n",
    "        ### Chunk containing info on most important Genuses\n",
    "        dt_list = list(dt_classifier.feature_importances_)\n",
    "        genus_total_list.append(dt_list.index(max(dt_list)))\n",
    "        \n",
    "        ### Saves a DT tree\n",
    "        if dt_list.index(max(dt_list)) == 499:\n",
    "            #print('here')\n",
    "            tree.export_graphviz(dt_classifier, out_file = \"tree_dt.dot\")\n",
    "\n",
    "\n",
    "        \n",
    "        temp_list = [0, 0, 0, 0]\n",
    "        y_pred = dt_classifier.predict(X_test)\n",
    "        for i in range(len(y_test)):\n",
    "            if (y_pred[i]) == 0 and y_test[i][0] == 1:\n",
    "                temp_list[0] += 1\n",
    "            elif (y_pred[i]) == 1 and y_test[i][0] == 0:\n",
    "                temp_list[1] += 1\n",
    "            elif (y_pred[i]) == 1 and y_test[i][0] == 1:\n",
    "                temp_list[2] += 1\n",
    "            elif (y_pred[i]) == 0 and y_test[i][0] == 0:\n",
    "                temp_list[3] += 1\n",
    "        FN_FP_TP_TN.append(temp_list)\n",
    "    #print(j)\n",
    "    for i in range(len(FN_FP_TP_TN)):\n",
    "        df1.loc[len(df1.index)] = FN_FP_TP_TN[i]\n",
    "\n",
    "    a = df1.TP.sum()\n",
    "    b = df1.FN.sum()\n",
    "    c = df1.FP.sum()\n",
    "    d = df1.TN.sum()\n",
    "\n",
    "    total_accuracy = (a + d)/(a + b + c + d)\n",
    "\n",
    "    df2.loc[len(df2.index)] = [p_num, total_accuracy]"
   ]
  },
  {
   "cell_type": "code",
   "execution_count": 13,
   "id": "2adb4a27",
   "metadata": {},
   "outputs": [
    {
     "name": "stdout",
     "output_type": "stream",
     "text": [
      "Marinicaulis\n",
      "Promicromonospora\n"
     ]
    }
   ],
   "source": [
    "# Genera found in sample tree \n",
    "#499, 161\n",
    "print((column_list[499].split(\"|\"))[-1:][0])\n",
    "print((column_list[161].split(\"|\"))[-1:][0])"
   ]
  },
  {
   "cell_type": "code",
   "execution_count": 14,
   "id": "3186976a",
   "metadata": {},
   "outputs": [],
   "source": [
    "########################################\n",
    "# Leave N out and produce bacteria genera bar graph\n",
    "########################################"
   ]
  },
  {
   "cell_type": "code",
   "execution_count": 15,
   "id": "ba0836a7",
   "metadata": {},
   "outputs": [
    {
     "name": "stdout",
     "output_type": "stream",
     "text": [
      "40\n"
     ]
    }
   ],
   "source": [
    "c = {'p_out': [], 'accuracy': []}\n",
    "\n",
    "\n",
    "df2 = pd.DataFrame(columns = ['p_out', 'accuracy'])\n",
    "df2.head()\n",
    "\n",
    "import numpy as np\n",
    "from sklearn.model_selection import LeavePOut\n",
    "genus_total_list = []\n",
    "\n",
    "p_num_list = [40]\n",
    "for j in p_num_list:\n",
    "    p_num = j\n",
    "    d = {'TP': [], 'FN': [], 'FP': [], 'TN': []}\n",
    "    df1 = pd.DataFrame(data=d)\n",
    "    \n",
    "    rs = ShuffleSplit(n_splits=10000, test_size= float(j/81), random_state=1693)\n",
    "    rs.get_n_splits(X)\n",
    "    \n",
    "    FN_FP_TP_TN = []\n",
    "    for train_index, test_index in rs.split(X):\n",
    "        X_train, X_test = X[train_index], X[test_index]\n",
    "        y_train, y_test = y[train_index], y[test_index]\n",
    "        dt_classifier = DecisionTreeClassifier(random_state=1693, max_depth=3, min_samples_leaf=4)\n",
    "        dt_classifier.fit(X_train, y_train)\n",
    "        \n",
    "        \n",
    "        ### Chunk containing info on most important Genuses\n",
    "        dt_list = list(dt_classifier.feature_importances_)\n",
    "        genus_total_list.append(dt_list.index(max(dt_list)))\n",
    "        \n",
    "\n",
    "        temp_list = [0, 0, 0, 0]\n",
    "        y_pred = dt_classifier.predict(X_test)\n",
    "\n",
    "        for i in range(len(y_test)):\n",
    "            if (y_pred[i]) == 0 and y_test[i][0] == 1:\n",
    "                temp_list[0] += 1\n",
    "            elif (y_pred[i]) == 1 and y_test[i][0] == 0:\n",
    "                temp_list[1] += 1\n",
    "            elif (y_pred[i]) == 1 and y_test[i][0] == 1:\n",
    "                temp_list[2] += 1\n",
    "            elif (y_pred[i]) == 0 and y_test[i][0] == 0:\n",
    "                temp_list[3] += 1\n",
    "        FN_FP_TP_TN.append(temp_list)\n",
    "    print(j)\n",
    "    #print(FN_FP_TP_TN)\n",
    "    for i in range(len(FN_FP_TP_TN)):\n",
    "        df1.loc[len(df1.index)] = FN_FP_TP_TN[i]\n",
    "    #print(df1.head())\n",
    "    a = df1.TP.sum()\n",
    "    b = df1.FN.sum()\n",
    "    c = df1.FP.sum()\n",
    "    d = df1.TN.sum()\n",
    "    #print(\"Leave\", p_num, 'out analysis:')\n",
    "    #print('')\n",
    "    #print('|', a, '|', b, '|')\n",
    "    #print('|', c, '|', d, '|')\n",
    "    #print('')\n",
    "    total_accuracy = (a + d)/(a + b + c + d)\n",
    "    #print('Total accuracy:', total_accuracy)\n",
    "    #print('Sum:')\n",
    "    #print(a + b + c + d)\n",
    "    df2.loc[len(df2.index)] = [p_num, total_accuracy]\n",
    "    #print('')\n",
    "    #print(df2.head())\n",
    "    #print('')"
   ]
  },
  {
   "cell_type": "code",
   "execution_count": 16,
   "id": "0cb345af",
   "metadata": {},
   "outputs": [
    {
     "name": "stdout",
     "output_type": "stream",
     "text": [
      "10000\n"
     ]
    }
   ],
   "source": [
    "print(len(genus_total_list))"
   ]
  },
  {
   "cell_type": "code",
   "execution_count": 17,
   "id": "d05f4aa0",
   "metadata": {},
   "outputs": [
    {
     "name": "stdout",
     "output_type": "stream",
     "text": [
      "46\n",
      "49\n"
     ]
    },
    {
     "data": {
      "text/plain": [
       "Text(0.5, 1.0, 'Most Important Genera according to Gini Importance (N = 10000)')"
      ]
     },
     "execution_count": 17,
     "metadata": {},
     "output_type": "execute_result"
    },
    {
     "data": {
      "image/png": "[encoded data removed]",
      "text/plain": [
       "<Figure size 720x432 with 1 Axes>"
      ]
     },
     "metadata": {
      "needs_background": "light"
     },
     "output_type": "display_data"
    }
   ],
   "source": [
    "unique_genera = []\n",
    "for item in genus_total_list:\n",
    "    if item not in unique_genera:\n",
    "        unique_genera.append(item)\n",
    "\n",
    "genera_count= list(range(len(unique_genera)))\n",
    "for i in range(len(unique_genera)):\n",
    "    genera_count[i] = genus_total_list.count(unique_genera[i])\n",
    "    \n",
    "max_list = sorted(genera_count[:-10])\n",
    "final_max = (max_list[-10:])\n",
    "#print(final_max) \n",
    "\n",
    "X_list = []\n",
    "y_list = []\n",
    "for i in final_max:\n",
    "    X_list.append(str(unique_genera[genera_count.index(i)]))\n",
    "    y_list.append(i)\n",
    "\n",
    "for i in range(len(genera_count)):\n",
    "    if genera_count[i] == 23:\n",
    "        print(i)\n",
    "\n",
    "#X_list[1] = str(unique_genera[82])\n",
    "\n",
    "#print(X_list)\n",
    "#print(y_list)\n",
    "\n",
    "genus_list = []\n",
    "for i in X_list:\n",
    "    genus_list.append(column_list[int(i)])\n",
    "\n",
    "final_genus_list = []\n",
    "for i in genus_list:\n",
    "    final_genus_list.append((i.split(\"|\"))[-1:][0])\n",
    "    #print(i)\n",
    "    #print(genus)\n",
    "#print(final_genus_list)\n",
    "\n",
    "fig= plt.figure(figsize=(10,6))\n",
    "plt.bar(final_genus_list[-5:], y_list[-5:], color = 'darkgreen')\n",
    "plt.rc('axes', titlesize=20) #fontsize of the title\n",
    "plt.rc('axes', labelsize=15) #fontsize of the x and y labels\n",
    "plt.xlabel(\"Genus\")\n",
    "plt.ylabel(\"Number of Decision Trees\")\n",
    "plt.title(\"Most Important Genera according to Gini Importance (N = 10000)\")"
   ]
  },
  {
   "cell_type": "code",
   "execution_count": 18,
   "id": "fb04919a",
   "metadata": {},
   "outputs": [],
   "source": [
    "######################\n",
    "#Create distribution graph of a accuracy of each model\n",
    "######################"
   ]
  },
  {
   "cell_type": "code",
   "execution_count": 19,
   "id": "53281100",
   "metadata": {
    "scrolled": true
   },
   "outputs": [
    {
     "name": "stdout",
     "output_type": "stream",
     "text": [
      "20\n",
      "   p_out  accuracy\n",
      "0   20.0  0.839945\n"
     ]
    }
   ],
   "source": [
    "c = {'p_out': [], 'accuracy': []}\n",
    "\n",
    "\n",
    "df2 = pd.DataFrame(columns = ['p_out', 'accuracy'])\n",
    "df2.head()\n",
    "\n",
    "import numpy as np\n",
    "from sklearn.model_selection import LeavePOut\n",
    "#genus_total_list = []\n",
    "\n",
    "p_num_list = [20]\n",
    "for j in p_num_list:\n",
    "    p_num = j\n",
    "    d = {'TP': [], 'FN': [], 'FP': [], 'TN': []}\n",
    "    df1 = pd.DataFrame(data=d)\n",
    "    \n",
    "    rs = ShuffleSplit(n_splits=10000, test_size= float(j/81), random_state=1693)\n",
    "    rs.get_n_splits(X)\n",
    "    \n",
    "    FN_FP_TP_TN = []\n",
    "    for train_index, test_index in rs.split(X):\n",
    "        X_train, X_test = X[train_index], X[test_index]\n",
    "        y_train, y_test = y[train_index], y[test_index]\n",
    "        dt_classifier = DecisionTreeClassifier(random_state=1693, max_depth=2, min_samples_leaf=4)\n",
    "        dt_classifier.fit(X_train, y_train)\n",
    "        \n",
    "        \n",
    "        ### Chunk containing info on most important Genuses\n",
    "        #dt_list = list(dt_classifier.feature_importances_)\n",
    "        #genus_total_list.append(dt_list.index(max(dt_list)))\n",
    "        \n",
    "\n",
    "        temp_list = [0, 0, 0, 0]\n",
    "        y_pred = dt_classifier.predict(X_test)\n",
    "\n",
    "        for i in range(len(y_test)):\n",
    "            if (y_pred[i]) == 0 and y_test[i][0] == 1:\n",
    "                temp_list[0] += 1\n",
    "            elif (y_pred[i]) == 1 and y_test[i][0] == 0:\n",
    "                temp_list[1] += 1\n",
    "            elif (y_pred[i]) == 1 and y_test[i][0] == 1:\n",
    "                temp_list[2] += 1\n",
    "            elif (y_pred[i]) == 0 and y_test[i][0] == 0:\n",
    "                temp_list[3] += 1\n",
    "        FN_FP_TP_TN.append(temp_list)\n",
    "    print(j)\n",
    "    #print(FN_FP_TP_TN)\n",
    "    for i in range(len(FN_FP_TP_TN)):\n",
    "        df1.loc[len(df1.index)] = FN_FP_TP_TN[i]\n",
    "    #print(df1.head())\n",
    "    a = df1.TP.sum()\n",
    "    b = df1.FN.sum()\n",
    "    c = df1.FP.sum()\n",
    "    d = df1.TN.sum()\n",
    "    #print(\"Leave\", p_num, 'out analysis:')\n",
    "    #print('')\n",
    "    #print('|', a, '|', b, '|')\n",
    "    #print('|', c, '|', d, '|')\n",
    "    #print('')\n",
    "    total_accuracy = (a + d)/(a + b + c + d)\n",
    "    #print('Total accuracy:', total_accuracy)\n",
    "    #print('Sum:')\n",
    "    #print(a + b + c + d)\n",
    "    df2.loc[len(df2.index)] = [p_num, total_accuracy]\n",
    "    #print('')\n",
    "    print(df2.head())\n",
    "    #print('')"
   ]
  },
  {
   "cell_type": "code",
   "execution_count": 20,
   "id": "1d336e69",
   "metadata": {},
   "outputs": [
    {
     "data": {
      "image/png": "[encoded data removed]",
      "text/plain": [
       "<Figure size 648x432 with 1 Axes>"
      ]
     },
     "metadata": {
      "needs_background": "light"
     },
     "output_type": "display_data"
    }
   ],
   "source": [
    "# Barchart displaying variance in Leave N out for 20\n",
    "x = np.linspace(0, 1, 21)\n",
    "x_list = []\n",
    "for l in range(len(x)):\n",
    "    x_list.append(str(round(x[l],2)))\n",
    "bar_list = [None] * 21\n",
    "for b in range(len(bar_list)):\n",
    "    bar_list[b] = 0\n",
    "for i, row in df1.iterrows():\n",
    "    bar_list[int(row['TN'] + row['TP'])] += 1\n",
    "\n",
    "#print(x_list)\n",
    "fig= plt.figure(figsize=(9,6))\n",
    "plt.bar(x_list, bar_list, color = 'darkgreen')\n",
    "plt.rc('axes', titlesize=20) #fontsize of the title\n",
    "plt.rc('axes', labelsize=15) #fontsize of the x and y labels\n",
    "plt.xlabel(\"Accuracy\")\n",
    "plt.ylabel(\"Number of Decision Trees\")\n",
    "plt.title(\"Decision Trees Accuracy with 25% Testing Set (N = 10000)\")\n",
    "plt.show()"
   ]
  },
  {
   "cell_type": "code",
   "execution_count": null,
   "id": "4d7e75af",
   "metadata": {},
   "outputs": [],
   "source": []
  },
  {
   "cell_type": "code",
   "execution_count": null,
   "id": "d6df2ab0",
   "metadata": {},
   "outputs": [],
   "source": []
  }
 ],
 "metadata": {
  "kernelspec": {
   "display_name": "Python [conda env:conda_aml5]",
   "language": "python",
   "name": "conda-env-conda_aml5-py"
  },
  "language_info": {
   "codemirror_mode": {
    "name": "ipython",
    "version": 3
   },
   "file_extension": ".py",
   "mimetype": "text/x-python",
   "name": "python",
   "nbconvert_exporter": "python",
   "pygments_lexer": "ipython3",
   "version": "3.5.6"
  }
 },
 "nbformat": 4,
 "nbformat_minor": 5
}
